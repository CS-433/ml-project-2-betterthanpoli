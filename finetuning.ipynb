{
 "cells": [
  {
   "cell_type": "code",
   "execution_count": 1,
   "metadata": {},
   "outputs": [],
   "source": [
    "from transformers import GPT2LMHeadModel, GPT2Tokenizer, GPT2ForQuestionAnswering\n",
    "from DatasetChatbot import DatasetChatbot\n",
    "from torch.optim import Adam\n",
    "from torch.utils.data import DataLoader\n",
    "import tqdm\n",
    "import torch\n",
    "import pandas as pd\n",
    "import matplotlib.pyplot as plt\n",
    "from sklearn.model_selection import train_test_split\n",
    "import GPUtil\n",
    "\n",
    "# autoreload \n",
    "%load_ext autoreload\n",
    "%autoreload 2\n"
   ]
  },
  {
   "cell_type": "code",
   "execution_count": 2,
   "metadata": {},
   "outputs": [],
   "source": [
    "device = \"cuda:1\" if torch.cuda.is_available() else \"mps\" if torch.backends.mps.is_available() else \"cpu\"\n",
    "\n",
    "tokenizer = GPT2Tokenizer.from_pretrained(\"gpt2-large\")\n",
    "tokenizer.add_special_tokens({\"pad_token\": \"<pad>\"})\n",
    "tokenizer.add_tokens([\"<bot>: \"])\n",
    "\n",
    "model = GPT2LMHeadModel.from_pretrained(\"gpt2-large\")\n",
    "model.resize_token_embeddings(len(tokenizer))\n",
    "\n",
    "model = model.to(device)\n",
    "\n",
    "#model.load_state_dict(torch.load(\"model_state.pt\"))"
   ]
  },
  {
   "cell_type": "code",
   "execution_count": 3,
   "metadata": {},
   "outputs": [],
   "source": [
    "def train(trainData, valData, model, optim, device, epochs=10):\n",
    "    train_losses = []\n",
    "    val_losses = []\n",
    "\n",
    "    for i in tqdm.tqdm(range(epochs)):\n",
    "        model.train()\n",
    "        epoch_loss = []\n",
    "        for x in trainData:\n",
    "            x = x.to(device)\n",
    "            optim.zero_grad()\n",
    "            loss = model(x, labels=x).loss\n",
    "            epoch_loss.append(loss.item())\n",
    "            loss.backward()\n",
    "            optim.step()\n",
    "        train_losses.append(sum(epoch_loss)/len(epoch_loss))\n",
    "        model.eval()\n",
    "        epoch_val_loss = []\n",
    "        for x in valData:\n",
    "            x = x.to(device)\n",
    "            loss = model(x, labels=x).loss\n",
    "            epoch_val_loss.append(loss.item())\n",
    "        val_losses.append(sum(epoch_val_loss)/len(epoch_val_loss))\n",
    "        print(\"Epoch: {}, Train loss: {}, Val loss: {}\".format(i, train_losses[-1], val_losses[-1]))\n",
    "\n",
    "    if(val_losses[-1] == min(val_losses)):\n",
    "        torch.save(model.state_dict(), \"model_state_2_large.pt\")\n",
    "    return train_losses, val_losses"
   ]
  },
  {
   "cell_type": "code",
   "execution_count": 4,
   "metadata": {},
   "outputs": [],
   "source": [
    "path = \"qa_heatpumps_2.csv\"\n",
    "chatData = DatasetChatbot(path, tokenizer)\n",
    "trainData, testData = train_test_split(chatData, test_size=0.4, random_state=42)\n",
    "valData, testData = train_test_split(testData, test_size=0.2, random_state=42)\n",
    "\n",
    "trainLoader = DataLoader(trainData, batch_size=16, shuffle=True)\n",
    "valLoader = DataLoader(valData, batch_size=16, shuffle=True)\n",
    "testLoader = DataLoader(testData, batch_size=16, shuffle=True)"
   ]
  },
  {
   "attachments": {},
   "cell_type": "markdown",
   "metadata": {},
   "source": [
    "# Train: #"
   ]
  },
  {
   "cell_type": "code",
   "execution_count": 5,
   "metadata": {},
   "outputs": [
    {
     "name": "stdout",
     "output_type": "stream",
     "text": [
      "training .... \n"
     ]
    },
    {
     "name": "stderr",
     "output_type": "stream",
     "text": [
      " 20%|██        | 1/5 [02:47<11:08, 167.16s/it]"
     ]
    },
    {
     "name": "stdout",
     "output_type": "stream",
     "text": [
      "Epoch: 0, Train loss: 1.5212624716226029, Val loss: 1.1608517816798254\n"
     ]
    },
    {
     "name": "stderr",
     "output_type": "stream",
     "text": [
      " 40%|████      | 2/5 [05:33<08:20, 166.95s/it]"
     ]
    },
    {
     "name": "stdout",
     "output_type": "stream",
     "text": [
      "Epoch: 1, Train loss: 0.9340287499705663, Val loss: 1.040009648894722\n"
     ]
    },
    {
     "name": "stderr",
     "output_type": "stream",
     "text": [
      " 60%|██████    | 3/5 [08:20<05:33, 166.75s/it]"
     ]
    },
    {
     "name": "stdout",
     "output_type": "stream",
     "text": [
      "Epoch: 2, Train loss: 0.6369060684211444, Val loss: 1.0151744243434884\n"
     ]
    },
    {
     "name": "stderr",
     "output_type": "stream",
     "text": [
      " 80%|████████  | 4/5 [11:06<02:46, 166.52s/it]"
     ]
    },
    {
     "name": "stdout",
     "output_type": "stream",
     "text": [
      "Epoch: 3, Train loss: 0.44486587795154486, Val loss: 1.0411944752051072\n"
     ]
    },
    {
     "name": "stderr",
     "output_type": "stream",
     "text": [
      "100%|██████████| 5/5 [13:53<00:00, 166.61s/it]"
     ]
    },
    {
     "name": "stdout",
     "output_type": "stream",
     "text": [
      "Epoch: 4, Train loss: 0.3185772413054958, Val loss: 1.0951467580754648\n"
     ]
    },
    {
     "name": "stderr",
     "output_type": "stream",
     "text": [
      "\n"
     ]
    },
    {
     "name": "stdout",
     "output_type": "stream",
     "text": [
      "infer from model : \n"
     ]
    },
    {
     "data": {
      "image/png": "[encoded data removed]",
      "text/plain": [
       "<Figure size 640x480 with 1 Axes>"
      ]
     },
     "metadata": {},
     "output_type": "display_data"
    }
   ],
   "source": [
    "optim = Adam(model.parameters(), lr=1e-5)\n",
    "\n",
    "print(\"training .... \")\n",
    "train_losses, val_losses = train(trainData, valData, model, optim, device, epochs=5)\n",
    "#plot(losses)\n",
    "plt.plot(range(1, len(train_losses) + 1) ,train_losses)\n",
    "plt.plot(range(1, len(val_losses) + 1) ,val_losses)\n",
    "\n",
    "\n",
    "print(\"infer from model : \")"
   ]
  },
  {
   "attachments": {},
   "cell_type": "markdown",
   "metadata": {},
   "source": [
    "# Inference: #"
   ]
  },
  {
   "cell_type": "code",
   "execution_count": 6,
   "metadata": {},
   "outputs": [],
   "source": [
    "def infer(model, tokenizer, device, text):\n",
    "    model.eval()\n",
    "    input = text\n",
    "    input_ids = tokenizer(input, return_tensors=\"pt\")['input_ids'].to(device)\n",
    "    attention_mask = tokenizer(input, return_tensors=\"pt\")['attention_mask'].to(device)\n",
    "    output = model.generate(input_ids=input_ids, attention_mask=attention_mask, max_length=150,\n",
    "                             num_beams=5, no_repeat_ngram_size=2, do_sample=True, \n",
    "                             top_k=50, top_p=0.95, temperature=1)\n",
    "        \n",
    "    return tokenizer.decode(output[0], skip_special_tokens=True)"
   ]
  },
  {
   "cell_type": "code",
   "execution_count": 7,
   "metadata": {},
   "outputs": [
    {
     "data": {
      "text/plain": [
       "<All keys matched successfully>"
      ]
     },
     "execution_count": 7,
     "metadata": {},
     "output_type": "execute_result"
    }
   ],
   "source": [
    "model.load_state_dict(torch.load(\"model_state_2_large.pt\"))"
   ]
  },
  {
   "cell_type": "code",
   "execution_count": 8,
   "metadata": {},
   "outputs": [],
   "source": [
    "df = pd.read_csv('qa_heatpumps_2.csv', sep=';')\n",
    "questions = df['Question'].tolist()\n",
    "#select 20 random questions\n",
    "import random\n",
    "random.seed(2)\n",
    "random_questions = random.sample(questions, 30)\n"
   ]
  },
  {
   "cell_type": "code",
   "execution_count": 9,
   "metadata": {},
   "outputs": [
    {
     "name": "stderr",
     "output_type": "stream",
     "text": [
      "Setting `pad_token_id` to `eos_token_id`:50256 for open-end generation.\n",
      "Setting `pad_token_id` to `eos_token_id`:50256 for open-end generation.\n",
      "Setting `pad_token_id` to `eos_token_id`:50256 for open-end generation.\n",
      "Setting `pad_token_id` to `eos_token_id`:50256 for open-end generation.\n",
      "Setting `pad_token_id` to `eos_token_id`:50256 for open-end generation.\n",
      "Setting `pad_token_id` to `eos_token_id`:50256 for open-end generation.\n",
      "Setting `pad_token_id` to `eos_token_id`:50256 for open-end generation.\n",
      "Setting `pad_token_id` to `eos_token_id`:50256 for open-end generation.\n",
      "Setting `pad_token_id` to `eos_token_id`:50256 for open-end generation.\n",
      "Setting `pad_token_id` to `eos_token_id`:50256 for open-end generation.\n",
      "Setting `pad_token_id` to `eos_token_id`:50256 for open-end generation.\n",
      "Setting `pad_token_id` to `eos_token_id`:50256 for open-end generation.\n",
      "Setting `pad_token_id` to `eos_token_id`:50256 for open-end generation.\n",
      "Setting `pad_token_id` to `eos_token_id`:50256 for open-end generation.\n",
      "Setting `pad_token_id` to `eos_token_id`:50256 for open-end generation.\n",
      "Setting `pad_token_id` to `eos_token_id`:50256 for open-end generation.\n",
      "Setting `pad_token_id` to `eos_token_id`:50256 for open-end generation.\n",
      "Setting `pad_token_id` to `eos_token_id`:50256 for open-end generation.\n",
      "Setting `pad_token_id` to `eos_token_id`:50256 for open-end generation.\n",
      "Setting `pad_token_id` to `eos_token_id`:50256 for open-end generation.\n",
      "Setting `pad_token_id` to `eos_token_id`:50256 for open-end generation.\n",
      "Setting `pad_token_id` to `eos_token_id`:50256 for open-end generation.\n",
      "Setting `pad_token_id` to `eos_token_id`:50256 for open-end generation.\n",
      "Setting `pad_token_id` to `eos_token_id`:50256 for open-end generation.\n",
      "Setting `pad_token_id` to `eos_token_id`:50256 for open-end generation.\n",
      "Setting `pad_token_id` to `eos_token_id`:50256 for open-end generation.\n",
      "Setting `pad_token_id` to `eos_token_id`:50256 for open-end generation.\n",
      "Setting `pad_token_id` to `eos_token_id`:50256 for open-end generation.\n",
      "Setting `pad_token_id` to `eos_token_id`:50256 for open-end generation.\n",
      "Setting `pad_token_id` to `eos_token_id`:50256 for open-end generation.\n"
     ]
    }
   ],
   "source": [
    "file_name = \"qa_examples\"\n",
    "for question in random_questions:\n",
    "    answer = infer(model, tokenizer, device, question)\n",
    "    with open(file_name, 'a') as f:\n",
    "        f.write(\"Question: \" + question + \"\\n\")\n",
    "        f.write(\"Answer: \" + answer + \"\\n\")\n",
    "        f.write(\"\\n\")\n",
    "    "
   ]
  },
  {
   "cell_type": "code",
   "execution_count": null,
   "metadata": {},
   "outputs": [],
   "source": [
    "#let's iterate over the test set and see how the model performs\n",
    "for X in testLoader:\n",
    "    X = X.to(device)\n",
    "    for x in X:\n",
    "        qa = tokenizer.decode(x, skip_special_tokens=True)\n",
    "        question = qa.split(\"<bot>:\")[0]\n",
    "        print(\"Question: \", question)\n",
    "        output = infer(model, tokenizer, device, question)\n",
    "        print(\"Output: \", output)\n",
    "        answer = output.split(\"<bot>:\")[1]\n",
    "        print(\"Answer: \", answer)\n",
    "        print(\"---------------------------------------------------------------\")"
   ]
  },
  {
   "cell_type": "code",
   "execution_count": null,
   "metadata": {},
   "outputs": [],
   "source": [
    "infer(model, tokenizer, device, \"What is a heat pump?\")"
   ]
  },
  {
   "cell_type": "code",
   "execution_count": null,
   "metadata": {},
   "outputs": [],
   "source": [
    "for X in testLoader:\n",
    "    X = X.to(device)\n",
    "    bleu_scores = []\n",
    "    for x in X:\n",
    "        qa = tokenizer.decode(x, skip_special_tokens=True)\n",
    "        question = qa.split(\"<bot>:\")[0]\n",
    "        answer = qa.split(\"<bot>:\")[1].split(\" \")\n",
    "        output = infer(model, tokenizer, device, question)\n",
    "        pred_answer = output.split(\"<bot>:\")[1].split(\" \")\n",
    "        print(len(answer), len(pred_answer))\n",
    "        bleu_scores.append(corpus_bleu(answer, pred_answer))"
   ]
  }
 ],
 "metadata": {
  "kernelspec": {
   "display_name": "Python 3",
   "language": "python",
   "name": "python3"
  },
  "language_info": {
   "codemirror_mode": {
    "name": "ipython",
    "version": 3
   },
   "file_extension": ".py",
   "mimetype": "text/x-python",
   "name": "python",
   "nbconvert_exporter": "python",
   "pygments_lexer": "ipython3",
   "version": "3.10.9"
  },
  "orig_nbformat": 4
 },
 "nbformat": 4,
 "nbformat_minor": 2
}
